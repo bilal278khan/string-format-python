{
 "cells": [
  {
   "cell_type": "code",
   "execution_count": 2,
   "metadata": {},
   "outputs": [
    {
     "name": "stdout",
     "output_type": "stream",
     "text": [
      "the price is 100 dollar\n",
      "the price is 100 dollars\n",
      "HELLO !!!\n",
      "My name is bilal ahmed khan\n",
      "I am 20 year old\n",
      "My university is Neduet\n",
      "I am in class 17\n"
     ]
    }
   ],
   "source": [
    "#string format \n",
    "price = 100\n",
    "print(\"the price is\",price,\"dollar\")\n",
    "a = \"the price is {} dollars\".format(price)\n",
    "print(a)\n",
    "name = 'bilal ahmed khan'\n",
    "age = 20\n",
    "clas = 17\n",
    "school = 'Neduet'\n",
    "b = \"HELLO !!!\\nMy name is {1}\\nI am {0} year old\\nMy university is {3}\\nI am in class {2}\".format(age,name,clas,school) \n",
    "print(b)"
   ]
  },
  {
   "cell_type": "code",
   "execution_count": null,
   "metadata": {},
   "outputs": [],
   "source": []
  }
 ],
 "metadata": {
  "kernelspec": {
   "display_name": "Python 3",
   "language": "python",
   "name": "python3"
  },
  "language_info": {
   "codemirror_mode": {
    "name": "ipython",
    "version": 3
   },
   "file_extension": ".py",
   "mimetype": "text/x-python",
   "name": "python",
   "nbconvert_exporter": "python",
   "pygments_lexer": "ipython3",
   "version": "3.7.3"
  }
 },
 "nbformat": 4,
 "nbformat_minor": 2
}
